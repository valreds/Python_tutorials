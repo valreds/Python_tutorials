{
 "cells": [
  {
   "cell_type": "markdown",
   "id": "db761102",
   "metadata": {},
   "source": [
    "## SETS"
   ]
  },
  {
   "cell_type": "code",
   "execution_count": 22,
   "id": "0de89696",
   "metadata": {},
   "outputs": [],
   "source": [
    "# import image module\n",
    "from IPython.display import Image"
   ]
  },
  {
   "cell_type": "code",
   "execution_count": 3,
   "id": "8d42bf8e",
   "metadata": {},
   "outputs": [
    {
     "data": {
      "text/plain": [
       "['a', 'd', 'f', 'j', 't', 'w', 'a']"
      ]
     },
     "execution_count": 3,
     "metadata": {},
     "output_type": "execute_result"
    }
   ],
   "source": [
    "text = 'adfjtwa'\n",
    "list(text)"
   ]
  },
  {
   "cell_type": "code",
   "execution_count": 4,
   "id": "de416815",
   "metadata": {},
   "outputs": [
    {
     "data": {
      "text/plain": [
       "{'a', 'd', 'f', 'j', 't', 'w'}"
      ]
     },
     "execution_count": 4,
     "metadata": {},
     "output_type": "execute_result"
    }
   ],
   "source": [
    "set(text)"
   ]
  },
  {
   "cell_type": "code",
   "execution_count": 6,
   "id": "a78cac5a",
   "metadata": {},
   "outputs": [
    {
     "name": "stdout",
     "output_type": "stream",
     "text": [
      "{'e', 'c', 'f', 'd', 'a', 'b'} {'e', 'c', 'f', 'd', 'a', 'b'} set()\n"
     ]
    }
   ],
   "source": [
    "#two ways to create sets\n",
    "set1 = set(['a','b','c','d','e','f','a'])\n",
    "set2 = {'a','b','c','d','e','f','a'}\n",
    "set3 = set() # empty set\n",
    "print(set1, set2, set3)"
   ]
  },
  {
   "cell_type": "code",
   "execution_count": 17,
   "id": "6fc1f828",
   "metadata": {
    "scrolled": true
   },
   "outputs": [
    {
     "data": {
      "text/plain": [
       "(5, True)"
      ]
     },
     "execution_count": 17,
     "metadata": {},
     "output_type": "execute_result"
    }
   ],
   "source": [
    "#different data types in sets\n",
    "set4 = set(['hello', 4.52, '78', 84,'a'])\n",
    "#check len and membership\n",
    "len(set4), 84 in set4"
   ]
  },
  {
   "cell_type": "code",
   "execution_count": 14,
   "id": "84d05b1a",
   "metadata": {},
   "outputs": [
    {
     "data": {
      "text/plain": [
       "{4.52, '78', 84, 'a', 'b', 'c', 'd', 'e', 'f', 'hello'}"
      ]
     },
     "execution_count": 14,
     "metadata": {},
     "output_type": "execute_result"
    }
   ],
   "source": [
    "#union of two sets\n",
    "set1 | set4 # requires two sets\n",
    "set1.union(set4) # will take any iterable, convert to set and the union"
   ]
  },
  {
   "cell_type": "markdown",
   "id": "ef3561d5",
   "metadata": {},
   "source": [
    "### Operations:"
   ]
  },
  {
   "cell_type": "markdown",
   "id": "6b1e6ce0",
   "metadata": {},
   "source": [
    "#### - Union: returns ALL elements of both sets/objects"
   ]
  },
  {
   "cell_type": "code",
   "execution_count": 15,
   "id": "d904b02e",
   "metadata": {
    "scrolled": true
   },
   "outputs": [
    {
     "data": {
      "text/plain": [
       "{'a', 'b', 'baz', 'c', 'd', 'e', 'f', 'quux', 'qux'}"
      ]
     },
     "execution_count": 15,
     "metadata": {},
     "output_type": "execute_result"
    }
   ],
   "source": [
    "set1.union(('baz', 'qux', 'quux','a','b'))"
   ]
  },
  {
   "cell_type": "markdown",
   "id": "993537e6",
   "metadata": {},
   "source": [
    "#### - Intersection: returns elements common to both objects"
   ]
  },
  {
   "cell_type": "code",
   "execution_count": 16,
   "id": "5ae7e79b",
   "metadata": {},
   "outputs": [
    {
     "data": {
      "text/plain": [
       "{'a', 'b'}"
      ]
     },
     "execution_count": 16,
     "metadata": {},
     "output_type": "execute_result"
    }
   ],
   "source": [
    "#intersection example\n",
    "set1.intersection(('baz', 'qux', 'quux','a','b'))"
   ]
  },
  {
   "cell_type": "code",
   "execution_count": 18,
   "id": "cbb7d9bf",
   "metadata": {},
   "outputs": [
    {
     "data": {
      "text/plain": [
       "{'a'}"
      ]
     },
     "execution_count": 18,
     "metadata": {},
     "output_type": "execute_result"
    }
   ],
   "source": [
    "#intersection example\n",
    "set1 & set4"
   ]
  },
  {
   "cell_type": "markdown",
   "id": "a43d286d",
   "metadata": {},
   "source": [
    "#### - Difference: difference between sets. Returns elements that are on the first set but not in second set"
   ]
  },
  {
   "cell_type": "code",
   "execution_count": 19,
   "id": "f608b605",
   "metadata": {},
   "outputs": [
    {
     "data": {
      "text/plain": [
       "{'b', 'c', 'd', 'e', 'f'}"
      ]
     },
     "execution_count": 19,
     "metadata": {},
     "output_type": "execute_result"
    }
   ],
   "source": [
    "#difference example. Elements in set1 that are not in set4\n",
    "set1.difference(set4)"
   ]
  },
  {
   "cell_type": "code",
   "execution_count": 20,
   "id": "7b7f0fdd",
   "metadata": {},
   "outputs": [
    {
     "data": {
      "text/plain": [
       "{'b', 'c', 'd', 'e', 'f'}"
      ]
     },
     "execution_count": 20,
     "metadata": {},
     "output_type": "execute_result"
    }
   ],
   "source": [
    "#difference example. Elements in set1 that are not in set4\n",
    "set1 - set4"
   ]
  },
  {
   "cell_type": "code",
   "execution_count": 21,
   "id": "83899541",
   "metadata": {},
   "outputs": [
    {
     "data": {
      "text/plain": [
       "{1, 2, 3}"
      ]
     },
     "execution_count": 21,
     "metadata": {},
     "output_type": "execute_result"
    }
   ],
   "source": [
    "a = {1, 2, 3, 30, 300}\n",
    "b = {10, 20, 30, 40}\n",
    "c = {100, 200, 300, 400}\n",
    "\n",
    "#with multiple sets, operations are performed from left to right:\n",
    "a.difference(b, c) # a- b first and the resulting set substract c\n",
    "# a - b - c"
   ]
  },
  {
   "cell_type": "code",
   "execution_count": 23,
   "id": "aa391b43",
   "metadata": {
    "scrolled": true
   },
   "outputs": [
    {
     "data": {
      "text/html": [
       "<img src=\"sets_difference.png\" width=\"300\" height=\"300\"/>"
      ],
      "text/plain": [
       "<IPython.core.display.Image object>"
      ]
     },
     "execution_count": 23,
     "metadata": {},
     "output_type": "execute_result"
    }
   ],
   "source": [
    "# Sets difference\n",
    "Image(url=\"sets_difference.png\", width=300, height=300)"
   ]
  },
  {
   "cell_type": "markdown",
   "id": "e86e2bdf",
   "metadata": {},
   "source": [
    "#### - Symmetric difference: get elements in set1 or set2 but not both. Gets unique elements from the two sets. "
   ]
  },
  {
   "cell_type": "code",
   "execution_count": 24,
   "id": "924b9431",
   "metadata": {},
   "outputs": [
    {
     "data": {
      "text/plain": [
       "{'bar', 'foo', 'quux', 'qux'}"
      ]
     },
     "execution_count": 24,
     "metadata": {},
     "output_type": "execute_result"
    }
   ],
   "source": [
    "#symmetric difference\n",
    "x1 = {'foo', 'bar', 'baz'}\n",
    "x2 = {'baz', 'qux', 'quux'}\n",
    "\n",
    "#this method does not allow multiple sets\n",
    "x1.symmetric_difference(x2)"
   ]
  },
  {
   "cell_type": "code",
   "execution_count": 26,
   "id": "9a236a43",
   "metadata": {
    "scrolled": true
   },
   "outputs": [
    {
     "data": {
      "text/plain": [
       "{'bar', 'foo', 'quux', 'qux'}"
      ]
     },
     "execution_count": 26,
     "metadata": {},
     "output_type": "execute_result"
    }
   ],
   "source": [
    "# ONLY this operator allows symmetric difference with multiple sets and operations is performed from left to right\n",
    "x1 ^ x2"
   ]
  },
  {
   "cell_type": "code",
   "execution_count": 27,
   "id": "49ef7f77",
   "metadata": {},
   "outputs": [
    {
     "data": {
      "text/plain": [
       "{5, 10, 100}"
      ]
     },
     "execution_count": 27,
     "metadata": {},
     "output_type": "execute_result"
    }
   ],
   "source": [
    "a = {1, 2, 3, 4, 5}\n",
    "b = {10, 2, 3, 4, 50}\n",
    "c = {1, 50, 100}\n",
    "\n",
    "a ^ b ^ c"
   ]
  },
  {
   "cell_type": "markdown",
   "id": "f8d5f421",
   "metadata": {},
   "source": [
    "#### - Is Disjoint: returns a boolean. Returns True if set1 and set2 have no elements in common. Only method not operator"
   ]
  },
  {
   "cell_type": "code",
   "execution_count": 28,
   "id": "4d263dae",
   "metadata": {},
   "outputs": [
    {
     "data": {
      "text/plain": [
       "False"
      ]
     },
     "execution_count": 28,
     "metadata": {},
     "output_type": "execute_result"
    }
   ],
   "source": [
    "x1 = {'foo', 'bar', 'baz'}\n",
    "x2 = {'baz', 'qux', 'quux'}\n",
    "\n",
    "x1.isdisjoint(x2) # this means that there are some elements in common - baz"
   ]
  },
  {
   "cell_type": "code",
   "execution_count": 30,
   "id": "e2932270",
   "metadata": {
    "scrolled": true
   },
   "outputs": [
    {
     "data": {
      "text/plain": [
       "True"
      ]
     },
     "execution_count": 30,
     "metadata": {},
     "output_type": "execute_result"
    }
   ],
   "source": [
    "x2 - {'baz'}\n",
    "x1.isdisjoint(x2 - {'baz'}) # this means there are no common elements, we substracted baz frrom set x2"
   ]
  },
  {
   "cell_type": "markdown",
   "id": "9d558d59",
   "metadata": {},
   "source": [
    "#### - Is subset. Considers that all elements of x1 are in x2 then True."
   ]
  },
  {
   "cell_type": "code",
   "execution_count": 33,
   "id": "0e4258e3",
   "metadata": {},
   "outputs": [
    {
     "name": "stdout",
     "output_type": "stream",
     "text": [
      "True\n"
     ]
    },
    {
     "data": {
      "text/plain": [
       "False"
      ]
     },
     "execution_count": 33,
     "metadata": {},
     "output_type": "execute_result"
    }
   ],
   "source": [
    "x1 = {'foo', 'bar', 'baz'}\n",
    "print(x1.issubset({'foo', 'bar', 'baz', 'qux', 'quux'}))\n",
    "\n",
    "\n",
    "x2 = {'baz', 'qux', 'quux'}\n",
    "x1 <= x2"
   ]
  }
 ],
 "metadata": {
  "kernelspec": {
   "display_name": "Python 3 (ipykernel)",
   "language": "python",
   "name": "python3"
  },
  "language_info": {
   "codemirror_mode": {
    "name": "ipython",
    "version": 3
   },
   "file_extension": ".py",
   "mimetype": "text/x-python",
   "name": "python",
   "nbconvert_exporter": "python",
   "pygments_lexer": "ipython3",
   "version": "3.8.2"
  }
 },
 "nbformat": 4,
 "nbformat_minor": 5
}
